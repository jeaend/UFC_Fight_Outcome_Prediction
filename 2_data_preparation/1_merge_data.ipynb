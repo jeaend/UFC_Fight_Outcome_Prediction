{
 "cells": [
  {
   "cell_type": "code",
   "execution_count": 1,
   "metadata": {},
   "outputs": [],
   "source": [
    "import pandas as pd\n",
    "pd.set_option('display.max_columns', None)"
   ]
  },
  {
   "cell_type": "code",
   "execution_count": 2,
   "metadata": {},
   "outputs": [],
   "source": [
    "# Load the CSV files into pandas DataFrames\n",
    "fighter_info_df = pd.read_csv(\"../1_data_retrieval/ufc_fighter_info.csv\")\n",
    "fight_df = pd.read_csv(\"../1_data_retrieval/ufc_fight.csv\")\n",
    "\n",
    "# Merge the DataFrames based on the fighter names in 'f1' column\n",
    "f1_merged_df = pd.merge(fight_df, fighter_info_df, how='left', left_on='f1', right_on='name')\n",
    "\n",
    "# Merge again for the 'f2' column\n",
    "f2_merged_df = pd.merge(f1_merged_df, fighter_info_df, how='left', left_on='f2', right_on='name', suffixes=('_f1', '_f2'))\n",
    "\n",
    "# Drop redundant 'name' columns\n",
    "f2_merged_df.drop(['name_f1', 'name_f2'], axis=1, inplace=True)\n",
    "\n",
    "# Save the merged DataFrame to a new CSV file\n",
    "f2_merged_df.to_csv(\"ufc_data.csv\", index=False)"
   ]
  },
  {
   "cell_type": "code",
   "execution_count": 4,
   "metadata": {},
   "outputs": [
    {
     "data": {
      "text/plain": [
       "Index(['card_name', 'fight_date', 'fights_location', 'f1', 'f2', 'winner',\n",
       "       'weightclass', 'method', 'round', 'end_time', 'time_format', 'referee',\n",
       "       'f1_fighter', 'f1_kd', 'f1_sig_str', 'f1_sig_str_%', 'f1_total_str',\n",
       "       'f1_td', 'f1_td_%', 'f1_sub_att', 'f1_rev', 'f1_control', 'f1_head',\n",
       "       'f1_body', 'f1_leg', 'f1_distance', 'f1_clinch', 'f1_ground',\n",
       "       'f2_fighter', 'f2_kd', 'f2_sig_str', 'f2_sig_str_%', 'f2_total_str',\n",
       "       'f2_td', 'f2_td_%', 'f2_sub_att', 'f2_rev', 'f2_control', 'f2_head',\n",
       "       'f2_body', 'f2_leg', 'f2_distance', 'f2_clinch', 'f2_ground',\n",
       "       'record_f1', 'Height:_f1', 'Weight:_f1', 'Reach:_f1', 'STANCE:_f1',\n",
       "       'DOB:_f1', 'SLpM:_f1', 'Str. Acc.:_f1', 'SApM:_f1', 'Str. Def:_f1',\n",
       "       'Unnamed: 11_f1', 'TD Avg.:_f1', 'TD Acc.:_f1', 'TD Def.:_f1',\n",
       "       'Sub. Avg.:_f1', 'url_f1', 'record_f2', 'Height:_f2', 'Weight:_f2',\n",
       "       'Reach:_f2', 'STANCE:_f2', 'DOB:_f2', 'SLpM:_f2', 'Str. Acc.:_f2',\n",
       "       'SApM:_f2', 'Str. Def:_f2', 'Unnamed: 11_f2', 'TD Avg.:_f2',\n",
       "       'TD Acc.:_f2', 'TD Def.:_f2', 'Sub. Avg.:_f2', 'url_f2'],\n",
       "      dtype='object')"
      ]
     },
     "execution_count": 4,
     "metadata": {},
     "output_type": "execute_result"
    }
   ],
   "source": [
    "f2_merged_df.columns"
   ]
  },
  {
   "cell_type": "code",
   "execution_count": null,
   "metadata": {},
   "outputs": [],
   "source": []
  }
 ],
 "metadata": {
  "kernelspec": {
   "display_name": "base",
   "language": "python",
   "name": "python3"
  },
  "language_info": {
   "codemirror_mode": {
    "name": "ipython",
    "version": 3
   },
   "file_extension": ".py",
   "mimetype": "text/x-python",
   "name": "python",
   "nbconvert_exporter": "python",
   "pygments_lexer": "ipython3",
   "version": "3.11.7"
  }
 },
 "nbformat": 4,
 "nbformat_minor": 2
}
