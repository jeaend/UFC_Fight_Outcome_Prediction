{
 "cells": [
  {
   "cell_type": "code",
   "execution_count": 1,
   "metadata": {},
   "outputs": [],
   "source": [
    "import pandas as pd\n",
    "import numpy as np\n",
    "pd.set_option('display.max_columns', None)"
   ]
  },
  {
   "cell_type": "code",
   "execution_count": 2,
   "metadata": {},
   "outputs": [],
   "source": [
    "data = pd.read_csv('../2_data_preparation/cleaned_data.csv')\n",
    "clustered = pd.read_csv('data_clustered.csv')"
   ]
  },
  {
   "cell_type": "code",
   "execution_count": 3,
   "metadata": {},
   "outputs": [
    {
     "data": {
      "text/html": [
       "<div>\n",
       "<style scoped>\n",
       "    .dataframe tbody tr th:only-of-type {\n",
       "        vertical-align: middle;\n",
       "    }\n",
       "\n",
       "    .dataframe tbody tr th {\n",
       "        vertical-align: top;\n",
       "    }\n",
       "\n",
       "    .dataframe thead th {\n",
       "        text-align: right;\n",
       "    }\n",
       "</style>\n",
       "<table border=\"1\" class=\"dataframe\">\n",
       "  <thead>\n",
       "    <tr style=\"text-align: right;\">\n",
       "      <th></th>\n",
       "      <th>name</th>\n",
       "      <th>cluster</th>\n",
       "    </tr>\n",
       "  </thead>\n",
       "  <tbody>\n",
       "    <tr>\n",
       "      <th>0</th>\n",
       "      <td>Lerone Murphy</td>\n",
       "      <td>4</td>\n",
       "    </tr>\n",
       "    <tr>\n",
       "      <th>1</th>\n",
       "      <td>Edson Barboza</td>\n",
       "      <td>4</td>\n",
       "    </tr>\n",
       "    <tr>\n",
       "      <th>2</th>\n",
       "      <td>Khaos Williams</td>\n",
       "      <td>4</td>\n",
       "    </tr>\n",
       "    <tr>\n",
       "      <th>3</th>\n",
       "      <td>Carlston Harris</td>\n",
       "      <td>2</td>\n",
       "    </tr>\n",
       "    <tr>\n",
       "      <th>4</th>\n",
       "      <td>Themba Gorimbo</td>\n",
       "      <td>2</td>\n",
       "    </tr>\n",
       "    <tr>\n",
       "      <th>...</th>\n",
       "      <td>...</td>\n",
       "      <td>...</td>\n",
       "    </tr>\n",
       "    <tr>\n",
       "      <th>2391</th>\n",
       "      <td>Nick Sanzo</td>\n",
       "      <td>3</td>\n",
       "    </tr>\n",
       "    <tr>\n",
       "      <th>2392</th>\n",
       "      <td>Jim Mullen</td>\n",
       "      <td>3</td>\n",
       "    </tr>\n",
       "    <tr>\n",
       "      <th>2393</th>\n",
       "      <td>Yoshiki Takahashi</td>\n",
       "      <td>1</td>\n",
       "    </tr>\n",
       "    <tr>\n",
       "      <th>2394</th>\n",
       "      <td>Wallid Ismail</td>\n",
       "      <td>1</td>\n",
       "    </tr>\n",
       "    <tr>\n",
       "      <th>2395</th>\n",
       "      <td>Rainy Martinez</td>\n",
       "      <td>3</td>\n",
       "    </tr>\n",
       "  </tbody>\n",
       "</table>\n",
       "<p>2396 rows × 2 columns</p>\n",
       "</div>"
      ],
      "text/plain": [
       "                   name  cluster\n",
       "0         Lerone Murphy        4\n",
       "1         Edson Barboza        4\n",
       "2        Khaos Williams        4\n",
       "3       Carlston Harris        2\n",
       "4        Themba Gorimbo        2\n",
       "...                 ...      ...\n",
       "2391         Nick Sanzo        3\n",
       "2392         Jim Mullen        3\n",
       "2393  Yoshiki Takahashi        1\n",
       "2394      Wallid Ismail        1\n",
       "2395     Rainy Martinez        3\n",
       "\n",
       "[2396 rows x 2 columns]"
      ]
     },
     "execution_count": 3,
     "metadata": {},
     "output_type": "execute_result"
    }
   ],
   "source": [
    "clustered = clustered[['name', 'cluster']]\n",
    "clustered"
   ]
  },
  {
   "cell_type": "code",
   "execution_count": 4,
   "metadata": {},
   "outputs": [
    {
     "data": {
      "text/plain": [
       "winner\n",
       "f1    7289\n",
       "0      111\n",
       "Name: count, dtype: int64"
      ]
     },
     "execution_count": 4,
     "metadata": {},
     "output_type": "execute_result"
    }
   ],
   "source": [
    "data['winner'].value_counts()"
   ]
  },
  {
   "cell_type": "code",
   "execution_count": 5,
   "metadata": {},
   "outputs": [
    {
     "data": {
      "text/plain": [
       "winner\n",
       "f1    7289\n",
       "Name: count, dtype: int64"
      ]
     },
     "execution_count": 5,
     "metadata": {},
     "output_type": "execute_result"
    }
   ],
   "source": [
    "# filter data where clear decision\n",
    "data = data[data['winner'] == 'f1']\n",
    "data['winner'].value_counts()"
   ]
  },
  {
   "cell_type": "code",
   "execution_count": 6,
   "metadata": {},
   "outputs": [],
   "source": [
    "odds_df = data[['f1', 'f2']]"
   ]
  },
  {
   "cell_type": "code",
   "execution_count": 7,
   "metadata": {},
   "outputs": [
    {
     "data": {
      "text/html": [
       "<div>\n",
       "<style scoped>\n",
       "    .dataframe tbody tr th:only-of-type {\n",
       "        vertical-align: middle;\n",
       "    }\n",
       "\n",
       "    .dataframe tbody tr th {\n",
       "        vertical-align: top;\n",
       "    }\n",
       "\n",
       "    .dataframe thead th {\n",
       "        text-align: right;\n",
       "    }\n",
       "</style>\n",
       "<table border=\"1\" class=\"dataframe\">\n",
       "  <thead>\n",
       "    <tr style=\"text-align: right;\">\n",
       "      <th></th>\n",
       "      <th>f1</th>\n",
       "      <th>f2</th>\n",
       "    </tr>\n",
       "  </thead>\n",
       "  <tbody>\n",
       "    <tr>\n",
       "      <th>0</th>\n",
       "      <td>Lerone Murphy</td>\n",
       "      <td>Edson Barboza</td>\n",
       "    </tr>\n",
       "    <tr>\n",
       "      <th>1</th>\n",
       "      <td>Khaos Williams</td>\n",
       "      <td>Carlston Harris</td>\n",
       "    </tr>\n",
       "  </tbody>\n",
       "</table>\n",
       "</div>"
      ],
      "text/plain": [
       "               f1               f2\n",
       "0   Lerone Murphy    Edson Barboza\n",
       "1  Khaos Williams  Carlston Harris"
      ]
     },
     "execution_count": 7,
     "metadata": {},
     "output_type": "execute_result"
    }
   ],
   "source": [
    "odds_df.head(2)"
   ]
  },
  {
   "cell_type": "code",
   "execution_count": 8,
   "metadata": {},
   "outputs": [],
   "source": [
    "\n",
    "# Merge the cluster column from clustered DataFrame based on fighter names (f1 and f2)\n",
    "odds_df = pd.merge(odds_df, clustered[['name', 'cluster']], left_on='f1', right_on='name', how='left')\n",
    "odds_df.rename(columns={'cluster': 'winner_cluster'}, inplace=True)\n",
    "\n",
    "odds_df = pd.merge(odds_df, clustered[['name', 'cluster']], left_on='f2', right_on='name', how='left')\n",
    "odds_df.rename(columns={'cluster': 'loser_cluster'}, inplace=True)"
   ]
  },
  {
   "cell_type": "code",
   "execution_count": 9,
   "metadata": {},
   "outputs": [
    {
     "data": {
      "text/html": [
       "<div>\n",
       "<style scoped>\n",
       "    .dataframe tbody tr th:only-of-type {\n",
       "        vertical-align: middle;\n",
       "    }\n",
       "\n",
       "    .dataframe tbody tr th {\n",
       "        vertical-align: top;\n",
       "    }\n",
       "\n",
       "    .dataframe thead th {\n",
       "        text-align: right;\n",
       "    }\n",
       "</style>\n",
       "<table border=\"1\" class=\"dataframe\">\n",
       "  <thead>\n",
       "    <tr style=\"text-align: right;\">\n",
       "      <th></th>\n",
       "      <th>f1</th>\n",
       "      <th>f2</th>\n",
       "      <th>name_x</th>\n",
       "      <th>winner_cluster</th>\n",
       "      <th>name_y</th>\n",
       "      <th>loser_cluster</th>\n",
       "    </tr>\n",
       "  </thead>\n",
       "  <tbody>\n",
       "    <tr>\n",
       "      <th>0</th>\n",
       "      <td>Lerone Murphy</td>\n",
       "      <td>Edson Barboza</td>\n",
       "      <td>Lerone Murphy</td>\n",
       "      <td>4</td>\n",
       "      <td>Edson Barboza</td>\n",
       "      <td>4</td>\n",
       "    </tr>\n",
       "    <tr>\n",
       "      <th>1</th>\n",
       "      <td>Khaos Williams</td>\n",
       "      <td>Carlston Harris</td>\n",
       "      <td>Khaos Williams</td>\n",
       "      <td>4</td>\n",
       "      <td>Carlston Harris</td>\n",
       "      <td>2</td>\n",
       "    </tr>\n",
       "  </tbody>\n",
       "</table>\n",
       "</div>"
      ],
      "text/plain": [
       "               f1               f2          name_x  winner_cluster  \\\n",
       "0   Lerone Murphy    Edson Barboza   Lerone Murphy               4   \n",
       "1  Khaos Williams  Carlston Harris  Khaos Williams               4   \n",
       "\n",
       "            name_y  loser_cluster  \n",
       "0    Edson Barboza              4  \n",
       "1  Carlston Harris              2  "
      ]
     },
     "execution_count": 9,
     "metadata": {},
     "output_type": "execute_result"
    }
   ],
   "source": [
    "odds_df.head(2)"
   ]
  },
  {
   "cell_type": "code",
   "execution_count": 10,
   "metadata": {},
   "outputs": [],
   "source": [
    "odds_df.drop(columns=['f1', 'f2', 'name_x', 'name_y'], inplace=True)"
   ]
  },
  {
   "cell_type": "code",
   "execution_count": 11,
   "metadata": {},
   "outputs": [
    {
     "data": {
      "text/plain": [
       "winner_cluster\n",
       "2    3574\n",
       "4    2981\n",
       "1     643\n",
       "0      65\n",
       "3      26\n",
       "Name: count, dtype: int64"
      ]
     },
     "execution_count": 11,
     "metadata": {},
     "output_type": "execute_result"
    }
   ],
   "source": [
    "odds_df['winner_cluster'].value_counts()"
   ]
  },
  {
   "cell_type": "code",
   "execution_count": 12,
   "metadata": {},
   "outputs": [
    {
     "data": {
      "text/html": [
       "<style type=\"text/css\">\n",
       "#T_d10cb_row0_col0, #T_d10cb_row1_col1, #T_d10cb_row2_col2, #T_d10cb_row3_col3, #T_d10cb_row4_col4 {\n",
       "  background-color: #6aaed6;\n",
       "  color: #f1f1f1;\n",
       "}\n",
       "#T_d10cb_row0_col1 {\n",
       "  background-color: #a3cce3;\n",
       "  color: #000000;\n",
       "}\n",
       "#T_d10cb_row0_col2 {\n",
       "  background-color: #7fb9da;\n",
       "  color: #000000;\n",
       "}\n",
       "#T_d10cb_row0_col3, #T_d10cb_row4_col3 {\n",
       "  background-color: #08306b;\n",
       "  color: #f1f1f1;\n",
       "}\n",
       "#T_d10cb_row0_col4 {\n",
       "  background-color: #a0cbe2;\n",
       "  color: #000000;\n",
       "}\n",
       "#T_d10cb_row1_col0 {\n",
       "  background-color: #3e8ec4;\n",
       "  color: #f1f1f1;\n",
       "}\n",
       "#T_d10cb_row1_col2 {\n",
       "  background-color: #bdd7ec;\n",
       "  color: #000000;\n",
       "}\n",
       "#T_d10cb_row1_col3 {\n",
       "  background-color: #09529d;\n",
       "  color: #f1f1f1;\n",
       "}\n",
       "#T_d10cb_row1_col4 {\n",
       "  background-color: #c3daee;\n",
       "  color: #000000;\n",
       "}\n",
       "#T_d10cb_row2_col0 {\n",
       "  background-color: #5ba3d0;\n",
       "  color: #f1f1f1;\n",
       "}\n",
       "#T_d10cb_row2_col1 {\n",
       "  background-color: #2979b9;\n",
       "  color: #f1f1f1;\n",
       "}\n",
       "#T_d10cb_row2_col3 {\n",
       "  background-color: #084285;\n",
       "  color: #f1f1f1;\n",
       "}\n",
       "#T_d10cb_row2_col4 {\n",
       "  background-color: #74b3d8;\n",
       "  color: #000000;\n",
       "}\n",
       "#T_d10cb_row3_col0, #T_d10cb_row3_col4 {\n",
       "  background-color: #f7fbff;\n",
       "  color: #000000;\n",
       "}\n",
       "#T_d10cb_row3_col1 {\n",
       "  background-color: #ddeaf7;\n",
       "  color: #000000;\n",
       "}\n",
       "#T_d10cb_row3_col2 {\n",
       "  background-color: #eaf2fb;\n",
       "  color: #000000;\n",
       "}\n",
       "#T_d10cb_row4_col0 {\n",
       "  background-color: #4090c5;\n",
       "  color: #f1f1f1;\n",
       "}\n",
       "#T_d10cb_row4_col1 {\n",
       "  background-color: #2373b6;\n",
       "  color: #f1f1f1;\n",
       "}\n",
       "#T_d10cb_row4_col2 {\n",
       "  background-color: #64a9d3;\n",
       "  color: #f1f1f1;\n",
       "}\n",
       "</style>\n",
       "<table id=\"T_d10cb\">\n",
       "  <thead>\n",
       "    <tr>\n",
       "      <th class=\"index_name level0\" >loser_cluster</th>\n",
       "      <th id=\"T_d10cb_level0_col0\" class=\"col_heading level0 col0\" >0</th>\n",
       "      <th id=\"T_d10cb_level0_col1\" class=\"col_heading level0 col1\" >1</th>\n",
       "      <th id=\"T_d10cb_level0_col2\" class=\"col_heading level0 col2\" >2</th>\n",
       "      <th id=\"T_d10cb_level0_col3\" class=\"col_heading level0 col3\" >3</th>\n",
       "      <th id=\"T_d10cb_level0_col4\" class=\"col_heading level0 col4\" >4</th>\n",
       "    </tr>\n",
       "    <tr>\n",
       "      <th class=\"index_name level0\" >winner_cluster</th>\n",
       "      <th class=\"blank col0\" >&nbsp;</th>\n",
       "      <th class=\"blank col1\" >&nbsp;</th>\n",
       "      <th class=\"blank col2\" >&nbsp;</th>\n",
       "      <th class=\"blank col3\" >&nbsp;</th>\n",
       "      <th class=\"blank col4\" >&nbsp;</th>\n",
       "    </tr>\n",
       "  </thead>\n",
       "  <tbody>\n",
       "    <tr>\n",
       "      <th id=\"T_d10cb_level0_row0\" class=\"row_heading level0 row0\" >0</th>\n",
       "      <td id=\"T_d10cb_row0_col0\" class=\"data row0 col0\" >50.000000</td>\n",
       "      <td id=\"T_d10cb_row0_col1\" class=\"data row0 col1\" >36.000000</td>\n",
       "      <td id=\"T_d10cb_row0_col2\" class=\"data row0 col2\" >45.000000</td>\n",
       "      <td id=\"T_d10cb_row0_col3\" class=\"data row0 col3\" >100.000000</td>\n",
       "      <td id=\"T_d10cb_row0_col4\" class=\"data row0 col4\" >37.000000</td>\n",
       "    </tr>\n",
       "    <tr>\n",
       "      <th id=\"T_d10cb_level0_row1\" class=\"row_heading level0 row1\" >1</th>\n",
       "      <td id=\"T_d10cb_row1_col0\" class=\"data row1 col0\" >64.000000</td>\n",
       "      <td id=\"T_d10cb_row1_col1\" class=\"data row1 col1\" >50.000000</td>\n",
       "      <td id=\"T_d10cb_row1_col2\" class=\"data row1 col2\" >28.000000</td>\n",
       "      <td id=\"T_d10cb_row1_col3\" class=\"data row1 col3\" >87.000000</td>\n",
       "      <td id=\"T_d10cb_row1_col4\" class=\"data row1 col4\" >26.000000</td>\n",
       "    </tr>\n",
       "    <tr>\n",
       "      <th id=\"T_d10cb_level0_row2\" class=\"row_heading level0 row2\" >2</th>\n",
       "      <td id=\"T_d10cb_row2_col0\" class=\"data row2 col0\" >55.000000</td>\n",
       "      <td id=\"T_d10cb_row2_col1\" class=\"data row2 col1\" >72.000000</td>\n",
       "      <td id=\"T_d10cb_row2_col2\" class=\"data row2 col2\" >50.000000</td>\n",
       "      <td id=\"T_d10cb_row2_col3\" class=\"data row2 col3\" >93.000000</td>\n",
       "      <td id=\"T_d10cb_row2_col4\" class=\"data row2 col4\" >48.000000</td>\n",
       "    </tr>\n",
       "    <tr>\n",
       "      <th id=\"T_d10cb_level0_row3\" class=\"row_heading level0 row3\" >3</th>\n",
       "      <td id=\"T_d10cb_row3_col0\" class=\"data row3 col0\" >0.000000</td>\n",
       "      <td id=\"T_d10cb_row3_col1\" class=\"data row3 col1\" >13.000000</td>\n",
       "      <td id=\"T_d10cb_row3_col2\" class=\"data row3 col2\" >7.000000</td>\n",
       "      <td id=\"T_d10cb_row3_col3\" class=\"data row3 col3\" >50.000000</td>\n",
       "      <td id=\"T_d10cb_row3_col4\" class=\"data row3 col4\" >0.000000</td>\n",
       "    </tr>\n",
       "    <tr>\n",
       "      <th id=\"T_d10cb_level0_row4\" class=\"row_heading level0 row4\" >4</th>\n",
       "      <td id=\"T_d10cb_row4_col0\" class=\"data row4 col0\" >63.000000</td>\n",
       "      <td id=\"T_d10cb_row4_col1\" class=\"data row4 col1\" >74.000000</td>\n",
       "      <td id=\"T_d10cb_row4_col2\" class=\"data row4 col2\" >52.000000</td>\n",
       "      <td id=\"T_d10cb_row4_col3\" class=\"data row4 col3\" >100.000000</td>\n",
       "      <td id=\"T_d10cb_row4_col4\" class=\"data row4 col4\" >50.000000</td>\n",
       "    </tr>\n",
       "  </tbody>\n",
       "</table>\n"
      ],
      "text/plain": [
       "<pandas.io.formats.style.Styler at 0x12542b510>"
      ]
     },
     "execution_count": 12,
     "metadata": {},
     "output_type": "execute_result"
    }
   ],
   "source": [
    "import matplotlib.cm as cm\n",
    "\n",
    "# Group by winner and loser clusters to count the number of wins and losses\n",
    "win_counts = odds_df.groupby(['winner_cluster', 'loser_cluster']).size().unstack(fill_value=0)\n",
    "loss_counts = odds_df.groupby(['loser_cluster', 'winner_cluster']).size().unstack(fill_value=0)\n",
    "\n",
    "# Calculate win percentage by cluster matchup\n",
    "win_percentage = (win_counts / (win_counts + loss_counts)) * 100\n",
    "# Round win percentages to nearest integer\n",
    "win_percentage_rounded = win_percentage.round()\n",
    "\n",
    "# Convert rounded win percentages to integers\n",
    "# win_percentage_int = win_percentage_rounded.astype(int)\n",
    "\n",
    "# Display win percentages by cluster matchup\n",
    "win_percentage_rounded.style.background_gradient(cmap='Blues', axis=None)"
   ]
  },
  {
   "cell_type": "code",
   "execution_count": 13,
   "metadata": {},
   "outputs": [
    {
     "data": {
      "text/html": [
       "<div>\n",
       "<style scoped>\n",
       "    .dataframe tbody tr th:only-of-type {\n",
       "        vertical-align: middle;\n",
       "    }\n",
       "\n",
       "    .dataframe tbody tr th {\n",
       "        vertical-align: top;\n",
       "    }\n",
       "\n",
       "    .dataframe thead th {\n",
       "        text-align: right;\n",
       "    }\n",
       "</style>\n",
       "<table border=\"1\" class=\"dataframe\">\n",
       "  <thead>\n",
       "    <tr style=\"text-align: right;\">\n",
       "      <th>loser_cluster</th>\n",
       "      <th>0</th>\n",
       "      <th>1</th>\n",
       "      <th>2</th>\n",
       "      <th>3</th>\n",
       "      <th>4</th>\n",
       "    </tr>\n",
       "    <tr>\n",
       "      <th>winner_cluster</th>\n",
       "      <th></th>\n",
       "      <th></th>\n",
       "      <th></th>\n",
       "      <th></th>\n",
       "      <th></th>\n",
       "    </tr>\n",
       "  </thead>\n",
       "  <tbody>\n",
       "    <tr>\n",
       "      <th>0</th>\n",
       "      <td>2</td>\n",
       "      <td>25</td>\n",
       "      <td>94</td>\n",
       "      <td>2</td>\n",
       "      <td>30</td>\n",
       "    </tr>\n",
       "    <tr>\n",
       "      <th>1</th>\n",
       "      <td>25</td>\n",
       "      <td>296</td>\n",
       "      <td>1057</td>\n",
       "      <td>15</td>\n",
       "      <td>684</td>\n",
       "    </tr>\n",
       "    <tr>\n",
       "      <th>2</th>\n",
       "      <td>94</td>\n",
       "      <td>1057</td>\n",
       "      <td>3520</td>\n",
       "      <td>54</td>\n",
       "      <td>1984</td>\n",
       "    </tr>\n",
       "    <tr>\n",
       "      <th>3</th>\n",
       "      <td>2</td>\n",
       "      <td>15</td>\n",
       "      <td>54</td>\n",
       "      <td>40</td>\n",
       "      <td>5</td>\n",
       "    </tr>\n",
       "    <tr>\n",
       "      <th>4</th>\n",
       "      <td>30</td>\n",
       "      <td>684</td>\n",
       "      <td>1984</td>\n",
       "      <td>5</td>\n",
       "      <td>2820</td>\n",
       "    </tr>\n",
       "  </tbody>\n",
       "</table>\n",
       "</div>"
      ],
      "text/plain": [
       "loser_cluster    0     1     2   3     4\n",
       "winner_cluster                          \n",
       "0                2    25    94   2    30\n",
       "1               25   296  1057  15   684\n",
       "2               94  1057  3520  54  1984\n",
       "3                2    15    54  40     5\n",
       "4               30   684  1984   5  2820"
      ]
     },
     "execution_count": 13,
     "metadata": {},
     "output_type": "execute_result"
    }
   ],
   "source": [
    "(win_counts + loss_counts)"
   ]
  },
  {
   "cell_type": "code",
   "execution_count": null,
   "metadata": {},
   "outputs": [],
   "source": []
  }
 ],
 "metadata": {
  "kernelspec": {
   "display_name": "base",
   "language": "python",
   "name": "python3"
  },
  "language_info": {
   "codemirror_mode": {
    "name": "ipython",
    "version": 3
   },
   "file_extension": ".py",
   "mimetype": "text/x-python",
   "name": "python",
   "nbconvert_exporter": "python",
   "pygments_lexer": "ipython3",
   "version": "3.11.7"
  }
 },
 "nbformat": 4,
 "nbformat_minor": 2
}
