{
 "cells": [
  {
   "cell_type": "code",
   "execution_count": 3,
   "metadata": {},
   "outputs": [],
   "source": [
    "import pandas as pd\n",
    "from bs4 import BeautifulSoup\n",
    "import requests \n",
    "\n",
    "# Function to get HTML response\n",
    "def get_html(url):\n",
    "    response = requests.get(url)\n",
    "    if response.status_code == 200:\n",
    "        return response.text\n",
    "    else:\n",
    "        return None\n",
    "    \n",
    "# Function to parse fight details from an event page\n",
    "def parse_fight_details(html, event_name, event_date, event_location):\n",
    "    soup = BeautifulSoup(html, 'html.parser')\n",
    "    fight_details = []\n",
    "    fighter_urls = {}\n",
    "\n",
    "    for fight_row in soup.find_all('tr', class_='b-fight-details__table-row'):\n",
    "        details = {}\n",
    "\n",
    "        fighters = fight_row.find_all('a', class_='b-link_style_black')\n",
    "        \n",
    "        if len(fighters) == 2:\n",
    "            details['f1'] = fighters[0].text.strip()\n",
    "            details['f2'] = fighters[1].text.strip()\n",
    "            fighter_urls[details['f1']] = fighters[0].get('href')\n",
    "            fighter_urls[details['f2']] = fighters[1].get('href')\n",
    "\n",
    "        details['card_name'] = event_name\n",
    "        details['fight_date'] = event_date\n",
    "        details['fights_location'] = event_location\n",
    "        details['fight_url'] = fight_row.get('data-link')\n",
    "        fight_details.append(details)\n",
    "\n",
    "    return fight_details[1:], fighter_urls\n",
    "\n",
    "# Read event URLs from CSV file\n",
    "df = pd.read_csv('ufc_fight_nights.csv')\n",
    "\n",
    "all_fights = []\n",
    "all_fighter_urls = {}\n",
    "\n",
    "for index, row in df.iterrows():\n",
    "    fight_night_url = row['url']\n",
    "    event_html = get_html(fight_night_url)\n",
    "    if event_html:\n",
    "        fights, fighter_urls = parse_fight_details(event_html, row['event_name'], row['date'], row['location'])\n",
    "        all_fights.extend(fights)\n",
    "        all_fighter_urls.update(fighter_urls)"
   ]
  },
  {
   "cell_type": "code",
   "execution_count": 4,
   "metadata": {},
   "outputs": [],
   "source": [
    "# Create DataFrame and save to CSV\n",
    "fight_df = pd.DataFrame(all_fights)\n",
    "fight_df.to_csv('ufc_fight_data.csv', index=False)\n",
    "# From dictionary \n",
    "all_fighter_urls = all_fighter_urls.values()\n",
    "all_fighter_urls = pd.DataFrame(all_fighter_urls)\n",
    "all_fighter_urls.to_csv('all_fighter_url.csv', index=False)"
   ]
  }
 ],
 "metadata": {
  "kernelspec": {
   "display_name": "base",
   "language": "python",
   "name": "python3"
  },
  "language_info": {
   "codemirror_mode": {
    "name": "ipython",
    "version": 3
   },
   "file_extension": ".py",
   "mimetype": "text/x-python",
   "name": "python",
   "nbconvert_exporter": "python",
   "pygments_lexer": "ipython3",
   "version": "3.11.7"
  }
 },
 "nbformat": 4,
 "nbformat_minor": 2
}
