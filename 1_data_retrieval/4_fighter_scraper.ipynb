{
 "cells": [
  {
   "cell_type": "code",
   "execution_count": 1,
   "metadata": {},
   "outputs": [],
   "source": [
    "import pandas as pd\n",
    "from bs4 import BeautifulSoup\n",
    "import requests"
   ]
  },
  {
   "cell_type": "code",
   "execution_count": 2,
   "metadata": {},
   "outputs": [],
   "source": [
    "def get_html(url):\n",
    "    response = requests.get(url)\n",
    "    if response.status_code == 200:\n",
    "        return response.text\n",
    "    else:\n",
    "        return None"
   ]
  },
  {
   "cell_type": "code",
   "execution_count": 3,
   "metadata": {},
   "outputs": [],
   "source": [
    "def scrape_fighter_data(url):\n",
    "    response = requests.get(url)\n",
    "    if response.status_code != 200:\n",
    "        return None\n",
    "\n",
    "    soup = BeautifulSoup(response.content, 'html.parser')\n",
    "    \n",
    "    # Extract fighter name\n",
    "    name = soup.find('span', class_='b-content__title-highlight').text.strip()\n",
    "    \n",
    "    # Extract fighter record\n",
    "    record = soup.find('span', class_='b-content__title-record').text.strip()\n",
    "\n",
    "    # Extract career statistics using specific selectors\n",
    "    career_stats = {}\n",
    "    stats_items = soup.select('li.b-list__box-list-item.b-list__box-list-item_type_block')\n",
    "    for item in stats_items:\n",
    "        title = item.select_one('i.b-list__box-item-title').get_text(strip=True)\n",
    "        value = item.get_text(strip=True, separator=' ').replace(title, '').strip()\n",
    "        career_stats[title.strip()] = value.strip()\n",
    "\n",
    "    # Combine extracted data\n",
    "    fighter_data = {\n",
    "        'name': name,\n",
    "        'record': record,\n",
    "        **career_stats  # Unpack the career statistics into the dictionary\n",
    "    }\n",
    "\n",
    "    return fighter_data"
   ]
  },
  {
   "cell_type": "code",
   "execution_count": 4,
   "metadata": {},
   "outputs": [
    {
     "data": {
      "text/plain": [
       "2498"
      ]
     },
     "execution_count": 4,
     "metadata": {},
     "output_type": "execute_result"
    }
   ],
   "source": [
    "# Load the CSV file\n",
    "df = pd.read_csv('all_fighter_url.csv')\n",
    "urls = df['0'].to_list()\n",
    "len(urls)"
   ]
  },
  {
   "cell_type": "code",
   "execution_count": 5,
   "metadata": {},
   "outputs": [],
   "source": [
    "# Loop through URLs and scrape data\n",
    "fighters_data = []\n",
    "for url in urls:\n",
    "    data = scrape_fighter_data(url)\n",
    "    if data:\n",
    "        data['url'] = url\n",
    "        fighters_data.append(data)"
   ]
  },
  {
   "cell_type": "code",
   "execution_count": 6,
   "metadata": {},
   "outputs": [],
   "source": [
    "# Convert the list of dictionaries to a DataFrame\n",
    "fighters_df = pd.DataFrame(fighters_data)\n",
    "\n",
    "# Save to a new CSV file\n",
    "fighters_df.to_csv('ufc_fighter_info.csv', index=False)"
   ]
  }
 ],
 "metadata": {
  "kernelspec": {
   "display_name": "base",
   "language": "python",
   "name": "python3"
  },
  "language_info": {
   "codemirror_mode": {
    "name": "ipython",
    "version": 3
   },
   "file_extension": ".py",
   "mimetype": "text/x-python",
   "name": "python",
   "nbconvert_exporter": "python",
   "pygments_lexer": "ipython3",
   "version": "3.11.7"
  }
 },
 "nbformat": 4,
 "nbformat_minor": 2
}
