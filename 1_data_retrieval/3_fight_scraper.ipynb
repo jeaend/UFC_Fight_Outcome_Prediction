{
 "cells": [
  {
   "cell_type": "code",
   "execution_count": null,
   "metadata": {},
   "outputs": [],
   "source": [
    "import pandas as pd\n",
    "from bs4 import BeautifulSoup\n",
    "import requests \n",
    "pd.set_option('display.max_columns', None)"
   ]
  },
  {
   "cell_type": "code",
   "execution_count": null,
   "metadata": {},
   "outputs": [],
   "source": [
    "# Function to get HTML response\n",
    "def get_html(url):\n",
    "    response = requests.get(url)\n",
    "    if response.status_code == 200:\n",
    "        return response.text\n",
    "    else:\n",
    "        return None\n",
    "    \n",
    "from bs4 import BeautifulSoup\n",
    "import pandas as pd\n",
    "\n",
    "def parse_individual_fight(html, card_name, fight_date, fights_location, f1, f2):\n",
    "    soup = BeautifulSoup(html, 'html.parser')\n",
    "    fight_stats = {}\n",
    "\n",
    "    fight_stats['card_name'] = card_name\n",
    "    fight_stats['fight_date'] = fight_date\n",
    "    fight_stats['fights_location'] = fights_location\n",
    "    fight_stats['f1'] = f1\n",
    "    fight_stats['f2'] = f2\n",
    "\n",
    "    # Winner name \n",
    "    if soup.find('i', class_='b-fight-details__person-status b-fight-details__person-status_style_green') is None:\n",
    "        fight_stats['winner'] = 0  \n",
    "    else: \n",
    "        fight_stats['winner'] = soup.find('i', class_='b-fight-details__person-status b-fight-details__person-status_style_green').find_next('a').text.strip()\n",
    "\n",
    "    # Get fight details \n",
    "    fight_details_div = soup.find('div', class_='b-fight-details__fight')\n",
    "    fight_stats['weightclass'] = fight_details_div.find('i', class_='b-fight-details__fight-title').text.strip()\n",
    "\n",
    "    fight_details_tag = fight_details_div.find('p', class_='b-fight-details__text')\n",
    "    details_tag = fight_details_tag.find_all('i')\n",
    "    fight_stats['method'] = details_tag[2].get_text(strip=True)\n",
    "    fight_stats['round'] = details_tag[3].get_text(strip=True).split(':')[1]\n",
    "    fight_stats['end_time'] = details_tag[5].get_text(strip=True).split('e:')[1]\n",
    "    fight_stats['time_format'] = details_tag[7].get_text(strip=True).split(':')[1].split(' ')[0]\n",
    "    fight_stats['referee'] = details_tag[9].get_text(strip=True).split(':')[1]\n",
    "    \n",
    "    # Extract individual fight stats\n",
    "    tables = soup.find_all('tbody', class_='b-fight-details__table-body')\n",
    "    totals_table = tables[0]\n",
    "    sig_strikes_table = tables[2]\n",
    "\n",
    "    rows = totals_table.find_all('tr')\n",
    "    data = {}\n",
    "    for row in rows:\n",
    "        cells = row.find_all('td')\n",
    "        for index, key in enumerate(['fighter', 'kd', 'sig_str', 'sig_str_%', 'total_str', 'td', 'td_%', 'sub_att', 'rev', 'control']):\n",
    "            data[key] = cells[index].text.strip()\n",
    "\n",
    "    rows = sig_strikes_table.find_all('tr')\n",
    "    for row in rows:\n",
    "        cells = row.find_all('td')\n",
    "        for index, key in enumerate(['fighter', 'sig_str', 'sig_str_%', 'head', 'body', 'leg', 'distance', 'clinch', 'ground']):\n",
    "            data[key] = cells[index].text.strip()\n",
    "\n",
    "    split_data = {key: [val for val in (val_raw.strip() for val_raw in values.strip().split(\"\\n\")) if val] for key, values in data.items()}\n",
    "    \n",
    "    winner_index = None\n",
    "    if split_data['fighter'][0] == fight_stats['winner']: \n",
    "        winner_index = 0\n",
    "    else:\n",
    "        winner_index = 1\n",
    "        \n",
    "    loser_index = winner_index -1 \n",
    "\n",
    "    df_f1 = pd.DataFrame({'f1_' + key: [value[winner_index]] for key, value in split_data.items()})\n",
    "    df_f2 = pd.DataFrame({'f2_' + key: [value[loser_index]] for key, value in split_data.items()})\n",
    "\n",
    "    fighting_stats = pd.concat([df_f1, df_f2], axis=1)\n",
    "    return {**fight_stats, **fighting_stats.to_dict(orient='records')[0]}\n"
   ]
  },
  {
   "cell_type": "code",
   "execution_count": null,
   "metadata": {},
   "outputs": [],
   "source": [
    "# Read event URLs from CSV file\n",
    "df = pd.read_csv('ufc_event_data.csv')\n",
    "df.tail(173)"
   ]
  },
  {
   "cell_type": "code",
   "execution_count": null,
   "metadata": {},
   "outputs": [],
   "source": [
    "all_fights = []\n",
    "\n",
    "# Loop through each event in the DataFrame\n",
    "for index, row in df.iterrows():\n",
    "    fight_url = row['fight_url']\n",
    "    card_name = row['card_name']\n",
    "    fight_date = row['fight_date']\n",
    "    fights_location = row['fights_location']\n",
    "    f1 = row['f1']\n",
    "    f2 = row['f2']\n",
    "    \n",
    "    # Some old fights do not have fight stats available, skip them\n",
    "    try:\n",
    "        # Fetch HTML content\n",
    "        html = get_html(fight_url)\n",
    "        if html:\n",
    "            # Parse fight details\n",
    "            fight_details = parse_individual_fight(html, card_name, fight_date, fights_location, f1, f2)\n",
    "            all_fights.append(fight_details)\n",
    "    except Exception as e:\n",
    "        print(f\"Error processing fight at URL: {fight_url}. Error: {e}\")"
   ]
  },
  {
   "cell_type": "code",
   "execution_count": null,
   "metadata": {},
   "outputs": [],
   "source": [
    "# Create a DataFrame from the list of fight details\n",
    "fights_df = pd.DataFrame(all_fights)\n",
    "\n",
    "# Save to CSV or perform further analysis\n",
    "fights_df.to_csv('ufc_fight.csv', index=False)"
   ]
  },
  {
   "cell_type": "code",
   "execution_count": null,
   "metadata": {},
   "outputs": [],
   "source": []
  }
 ],
 "metadata": {
  "kernelspec": {
   "display_name": "base",
   "language": "python",
   "name": "python3"
  },
  "language_info": {
   "codemirror_mode": {
    "name": "ipython",
    "version": 3
   },
   "file_extension": ".py",
   "mimetype": "text/x-python",
   "name": "python",
   "nbconvert_exporter": "python",
   "pygments_lexer": "ipython3",
   "version": "3.11.7"
  }
 },
 "nbformat": 4,
 "nbformat_minor": 2
}
