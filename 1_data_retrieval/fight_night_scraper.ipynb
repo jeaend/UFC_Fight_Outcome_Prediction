{
 "cells": [
  {
   "cell_type": "code",
   "execution_count": 1,
   "metadata": {},
   "outputs": [],
   "source": [
    "# pip install requests beautifulsoup4 pandas"
   ]
  },
  {
   "cell_type": "code",
   "execution_count": 2,
   "metadata": {},
   "outputs": [],
   "source": [
    "import pandas as pd\n",
    "from bs4 import BeautifulSoup\n",
    "import requests"
   ]
  },
  {
   "cell_type": "code",
   "execution_count": 3,
   "metadata": {},
   "outputs": [],
   "source": [
    "# Function to get HTML response\n",
    "def get_html(url):\n",
    "    response = requests.get(url)\n",
    "    if response.status_code == 200:\n",
    "        return response.text\n",
    "    else:\n",
    "        return None\n",
    "        \n",
    "# Function to parse event URLs from a single events page\n",
    "def get_all_event_urls(html):\n",
    "    soup = BeautifulSoup(html, 'html.parser')\n",
    "    event_links = []\n",
    "\n",
    "    for link in soup.find_all('a', class_='b-link b-link_style_black'):\n",
    "        href = link.get('href')\n",
    "        if 'event-details' in href:\n",
    "            event_links.append(href)\n",
    "    \n",
    "    return event_links\n",
    "\n",
    "# Function to parse fight night details from an event page\n",
    "def parse_fight_night_details(html):\n",
    "    soup = BeautifulSoup(html, 'html.parser')\n",
    "    details = {}\n",
    "\n",
    "    details['event_name'] = soup.find('h2', class_='b-content__title').text.strip()\n",
    "    details['date'] = soup.find('li', class_='b-list__box-list-item').text.strip().split(':')[-1].strip()\n",
    "    details['location'] = soup.find_all('li', class_='b-list__box-list-item')[1].text.strip().split(':')[-1].strip()\n",
    "\n",
    "    return details"
   ]
  },
  {
   "cell_type": "code",
   "execution_count": 4,
   "metadata": {},
   "outputs": [
    {
     "name": "stdout",
     "output_type": "stream",
     "text": [
      "Data has been saved to ufc_fight_nights.csv\n"
     ]
    }
   ],
   "source": [
    "# URL of the UFC stats completed events page\n",
    "base_url = 'http://www.ufcstats.com/statistics/events/completed?page=all'\n",
    "\n",
    "# Get all event URLs\n",
    "event_urls = get_all_event_urls(get_html(base_url))\n",
    "\n",
    "if event_urls:\n",
    "    fight_nights = []\n",
    "    for event_url in event_urls:\n",
    "        event_html = get_html(event_url)\n",
    "        if event_html:\n",
    "            details = parse_fight_night_details(event_html)\n",
    "            details['url'] = event_url\n",
    "            fight_nights.append(details)\n",
    "\n",
    "    # Create a DataFrame and save to a CSV file\n",
    "    df = pd.DataFrame(fight_nights)\n",
    "    df.to_csv('ufc_fight_nights.csv', index=False)\n",
    "    print(\"Data has been saved to ufc_fight_nights.csv\")\n",
    "else:\n",
    "    print(\"Failed to retrieve any event URLs\")"
   ]
  },
  {
   "cell_type": "code",
   "execution_count": null,
   "metadata": {},
   "outputs": [],
   "source": [
    "df"
   ]
  }
 ],
 "metadata": {
  "kernelspec": {
   "display_name": "base",
   "language": "python",
   "name": "python3"
  },
  "language_info": {
   "codemirror_mode": {
    "name": "ipython",
    "version": 3
   },
   "file_extension": ".py",
   "mimetype": "text/x-python",
   "name": "python",
   "nbconvert_exporter": "python",
   "pygments_lexer": "ipython3",
   "version": "3.11.7"
  }
 },
 "nbformat": 4,
 "nbformat_minor": 2
}
