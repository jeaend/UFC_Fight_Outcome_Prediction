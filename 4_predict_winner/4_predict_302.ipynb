{
 "cells": [
  {
   "cell_type": "code",
   "execution_count": 1,
   "metadata": {},
   "outputs": [],
   "source": [
    "import pickle\n",
    "import pandas as pd"
   ]
  },
  {
   "cell_type": "code",
   "execution_count": 2,
   "metadata": {},
   "outputs": [],
   "source": [
    "# Load the model and preprocessor\n",
    "with open('gradient_boosting_pipeline.pkl', 'rb') as file:\n",
    "    loaded_pipeline = pickle.load(file)"
   ]
  },
  {
   "cell_type": "code",
   "execution_count": 10,
   "metadata": {},
   "outputs": [
    {
     "name": "stdout",
     "output_type": "stream",
     "text": [
      "Predicted Winner: f1\n"
     ]
    }
   ],
   "source": [
    "# Example of making predictions on new data\n",
    "Makhachev_Poirier = pd.DataFrame({\n",
    "    'f1_stance': ['Orthodox'],\n",
    "    'f2_stance': ['Orthodox'],\n",
    "    'weightclass': ['lightweight'],\n",
    "    'f1_slmp': [2.46],\n",
    "    'f2_slmp': [5.45],\n",
    "    'f1_str_acc_%': [60.0],\n",
    "    'f2_str_acc_%': [51.0],\n",
    "    'f1_sapm': [1.27],\n",
    "    'f2_sapm': [4.36],\n",
    "    'f1_str_def_%': [61.0],\n",
    "    'f1_td_avg': [3.17],\n",
    "    'f2_td_avg': [1.33],\n",
    "    'f1_td_acc_%': [60.0],\n",
    "    'f2_td_acc_%': [36.0],\n",
    "    'f1_td_def_%': [90.0],\n",
    "    'f2_td_def_%': [63.0],\n",
    "    'f1_sub_avg': [1.0],\n",
    "    'f2_sub_avg': [1.4],\n",
    "    'f1_reach': [70],\n",
    "    'f2_reach': [72]\n",
    "}) \n",
    "\n",
    "# Predict the winner\n",
    "predicted_winner = loaded_pipeline.predict(Makhachev_Poirier)\n",
    "print(\"Predicted Winner:\", predicted_winner[0])"
   ]
  },
  {
   "cell_type": "code",
   "execution_count": 12,
   "metadata": {},
   "outputs": [
    {
     "name": "stdout",
     "output_type": "stream",
     "text": [
      "Predicted Winner: f1\n"
     ]
    }
   ],
   "source": [
    "Strickland_Costa = pd.DataFrame({\n",
    "    'f1_stance': ['Orthodox'],\n",
    "    'f2_stance': ['Orthodox'],\n",
    "    'weightclass': ['middleweight'],\n",
    "    'f1_slmp': [5.91],\n",
    "    'f2_slmp': [6.20],\n",
    "    'f1_str_acc_%': [41.0],\n",
    "    'f2_str_acc_%': [58.0],\n",
    "    'f1_sapm': [4.33],\n",
    "    'f2_sapm': [6.38],\n",
    "    'f1_str_def_%': [62.0],\n",
    "    'f1_td_avg': [0.85],\n",
    "    'f2_td_avg': [0.45],\n",
    "    'f1_td_acc_%': [64.0],\n",
    "    'f2_td_acc_%': [75.0],\n",
    "    'f1_td_def_%': [77.0],\n",
    "    'f2_td_def_%': [80.0],\n",
    "    'f1_sub_avg': [0.2],\n",
    "    'f2_sub_avg': [0.0],\n",
    "    'f1_reach': [76],\n",
    "    'f2_reach': [72]\n",
    "}) \n",
    "\n",
    "# Predict the winner\n",
    "predicted_winner = loaded_pipeline.predict(Strickland_Costa)\n",
    "print(\"Predicted Winner:\", predicted_winner[0])"
   ]
  },
  {
   "cell_type": "code",
   "execution_count": 15,
   "metadata": {},
   "outputs": [
    {
     "name": "stdout",
     "output_type": "stream",
     "text": [
      "Predicted Winner: f1\n"
     ]
    }
   ],
   "source": [
    "Holland_Oleksiejczuk = pd.DataFrame({\n",
    "    'f1_stance': ['Orthodox'],\n",
    "    'f2_stance': ['Unorthodox'],\n",
    "    'weightclass': ['middleweight'],\n",
    "    'f1_slmp': [4.24],\n",
    "    'f2_slmp': [5.06],\n",
    "    'f1_str_acc_%': [49.0],\n",
    "    'f2_str_acc_%': [50.0],\n",
    "    'f1_sapm': [3.19],\n",
    "    'f2_sapm': [4.26],\n",
    "    'f1_str_def_%': [50.0],\n",
    "    'f1_td_avg': [0.85],\n",
    "    'f2_td_avg': [0.75],\n",
    "    'f1_td_acc_%': [38.0],\n",
    "    'f2_td_acc_%': [44.0],\n",
    "    'f1_td_def_%': [54.0],\n",
    "    'f2_td_def_%': [48.0],\n",
    "    'f1_sub_avg': [0.6],\n",
    "    'f2_sub_avg': [0.0],\n",
    "    'f1_reach': [81],\n",
    "    'f2_reach': [74]\n",
    "}) \n",
    "\n",
    "# Predict the winner\n",
    "predicted_winner = loaded_pipeline.predict(Holland_Oleksiejczuk)\n",
    "print(\"Predicted Winner:\", predicted_winner[0])"
   ]
  },
  {
   "cell_type": "code",
   "execution_count": 17,
   "metadata": {},
   "outputs": [
    {
     "name": "stdout",
     "output_type": "stream",
     "text": [
      "Predicted Winner: f1\n"
     ]
    }
   ],
   "source": [
    "Price_Morono = pd.DataFrame({\n",
    "    'f1_stance': ['Orthodox'],\n",
    "    'f2_stance': ['Orthodox'],\n",
    "    'weightclass': ['welterweight'],\n",
    "    'f1_slmp': [5.46],\n",
    "    'f2_slmp': [4.87],\n",
    "    'f1_str_acc_%': [42.0],\n",
    "    'f2_str_acc_%': [40.0],\n",
    "    'f1_sapm': [5.60],\n",
    "    'f2_sapm': [4.16],\n",
    "    'f1_str_def_%': [48.0],\n",
    "    'f1_td_avg': [0.70],\n",
    "    'f2_td_avg': [0.32],\n",
    "    'f1_td_acc_%': [20.0],\n",
    "    'f2_td_acc_%': [22.0],\n",
    "    'f1_td_def_%': [64.0],\n",
    "    'f2_td_def_%': [55.0],\n",
    "    'f1_sub_avg': [0.7],\n",
    "    'f2_sub_avg': [0.4],\n",
    "    'f1_reach': [76],\n",
    "    'f2_reach': [72]\n",
    "}) \n",
    "\n",
    "# Predict the winner\n",
    "predicted_winner = loaded_pipeline.predict(Price_Morono)\n",
    "print(\"Predicted Winner:\", predicted_winner[0])"
   ]
  },
  {
   "cell_type": "code",
   "execution_count": 18,
   "metadata": {},
   "outputs": [
    {
     "name": "stdout",
     "output_type": "stream",
     "text": [
      "Predicted Winner: f1\n"
     ]
    }
   ],
   "source": [
    "Brown_Santos = pd.DataFrame({\n",
    "    'f1_stance': ['Orthodox'],\n",
    "    'f2_stance': ['Orthodox'],\n",
    "    'weightclass': ['welterweight'],\n",
    "    'f1_slmp': [4.37],\n",
    "    'f2_slmp': [4.52],\n",
    "    'f1_str_acc_%': [46.0],\n",
    "    'f2_str_acc_%': [42.0],\n",
    "    'f1_sapm': [3.33],\n",
    "    'f2_sapm': [3.33],\n",
    "    'f1_str_def_%': [54.0],\n",
    "    'f1_td_avg': [0.78],\n",
    "    'f2_td_avg': [0.43],\n",
    "    'f1_td_acc_%': [39.0],\n",
    "    'f2_td_acc_%': [13.0],\n",
    "    'f1_td_def_%': [74.0],\n",
    "    'f2_td_def_%': [68.0],\n",
    "    'f1_sub_avg': [0.5],\n",
    "    'f2_sub_avg': [0.4],\n",
    "    'f1_reach': [78],\n",
    "    'f2_reach': [73]\n",
    "}) \n",
    "\n",
    "# Predict the winner\n",
    "predicted_winner = loaded_pipeline.predict(Brown_Santos)\n",
    "print(\"Predicted Winner:\", predicted_winner[0])"
   ]
  },
  {
   "cell_type": "code",
   "execution_count": null,
   "metadata": {},
   "outputs": [],
   "source": []
  }
 ],
 "metadata": {
  "kernelspec": {
   "display_name": "base",
   "language": "python",
   "name": "python3"
  },
  "language_info": {
   "codemirror_mode": {
    "name": "ipython",
    "version": 3
   },
   "file_extension": ".py",
   "mimetype": "text/x-python",
   "name": "python",
   "nbconvert_exporter": "python",
   "pygments_lexer": "ipython3",
   "version": "3.11.7"
  }
 },
 "nbformat": 4,
 "nbformat_minor": 2
}
